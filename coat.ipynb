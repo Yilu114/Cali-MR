{
 "cells": [
  {
   "cell_type": "code",
   "execution_count": 1,
   "id": "0f77930a",
   "metadata": {},
   "outputs": [
    {
     "name": "stderr",
     "output_type": "stream",
     "text": [
      "c:\\Users\\ccody\\anaconda3\\envs\\pytorch\\lib\\site-packages\\tqdm\\auto.py:21: TqdmWarning: IProgress not found. Please update jupyter and ipywidgets. See https://ipywidgets.readthedocs.io/en/stable/user_install.html\n",
      "  from .autonotebook import tqdm as notebook_tqdm\n"
     ]
    }
   ],
   "source": [
    "# -*- coding: utf-8 -*-\n",
    "import numpy as np\n",
    "import torch\n",
    "from sklearn.metrics import roc_auc_score\n",
    "import random\n",
    "import pandas as pd\n",
    "from dataset import load_data\n",
    "from Cali_MR_Model import MF_Cali_MR\n",
    "\n",
    "from utils import ndcg_func, rating_mat_to_sample, binarize, recall_func, precision_func\n",
    "mse_func = lambda x,y: np.mean((x-y)**2)\n",
    "acc_func = lambda x,y: np.sum(x == y) / len(x)\n",
    "\n",
    "dataset_name = \"coat\""
   ]
  },
  {
   "cell_type": "code",
   "execution_count": 2,
   "id": "bb4b52d4",
   "metadata": {},
   "outputs": [],
   "source": [
    "def set_seed(seed):\n",
    "    random.seed(seed)\n",
    "    np.random.seed(seed)\n",
    "    torch.manual_seed(seed)\n",
    "    torch.cuda.manual_seed(seed)\n",
    "    torch.cuda.manual_seed_all(seed)\n",
    "\n",
    "set_seed(2024)"
   ]
  },
  {
   "cell_type": "code",
   "execution_count": 3,
   "id": "902db9a6",
   "metadata": {
    "colab": {
     "base_uri": "https://localhost:8080/"
    },
    "executionInfo": {
     "elapsed": 1441,
     "status": "ok",
     "timestamp": 1681721635206,
     "user": {
      "displayName": "Jaqueline Noonan",
      "userId": "14082822236352942107"
     },
     "user_tz": -480
    },
    "id": "902db9a6",
    "outputId": "f5254160-9ad6-4c18-d5ac-92aa63d6700d",
    "tags": []
   },
   "outputs": [
    {
     "name": "stdout",
     "output_type": "stream",
     "text": [
      "===>Load from coat data set<===\n",
      "[train] rating ratio: 0.080000\n",
      "[test]  rating ratio: 0.053333\n",
      "# user: 290, # item: 300\n"
     ]
    }
   ],
   "source": [
    "train_mat, test_mat = load_data(\"coat\")        \n",
    "x_train, y_train = rating_mat_to_sample(train_mat)\n",
    "x_test, y_test = rating_mat_to_sample(test_mat)\n",
    "num_user = train_mat.shape[0]\n",
    "num_item = train_mat.shape[1]\n",
    "\n",
    "print(\"# user: {}, # item: {}\".format(num_user, num_item))\n",
    "# binarize\n",
    "y_train = binarize(y_train)\n",
    "y_test = binarize(y_test)"
   ]
  },
  {
   "cell_type": "code",
   "execution_count": 8,
   "id": "b333fca9",
   "metadata": {},
   "outputs": [
    {
     "data": {
      "text/plain": [
       "array([[  0,  72],\n",
       "       [  0, 136],\n",
       "       [  0, 150],\n",
       "       ...,\n",
       "       [289, 144],\n",
       "       [289, 282],\n",
       "       [289, 294]], dtype=int64)"
      ]
     },
     "execution_count": 8,
     "metadata": {},
     "output_type": "execute_result"
    }
   ],
   "source": [
    "# 290 users, 300 items\n",
    "# 每个user根据自己喜好评价24个items，构成了290*24=6960个样本，为训练集\n",
    "# 每个user随即评价16个items，构成了290*16=4640个样本，为测试集\n",
    "x_train"
   ]
  },
  {
   "cell_type": "code",
   "execution_count": 5,
   "id": "2323544f",
   "metadata": {},
   "outputs": [
    {
     "name": "stdout",
     "output_type": "stream",
     "text": [
      "(87000, 2)\n",
      "[[  0.   0.]\n",
      " [  0.   1.]\n",
      " [  0.   2.]\n",
      " ...\n",
      " [289. 297.]\n",
      " [289. 298.]\n",
      " [289. 299.]]\n",
      "[PS] epoch:15, xent:86.39530432224274\n",
      "[MF-MR] epoch:38, xent:4.206998221576214\n",
      "***************[MF-Cali-MR]***************\n",
      "[MF-Cali-MR] test mse: 0.2773858549875212\n",
      "[MF-Cali-MR] test auc: 0.6642905087464108\n",
      "[MF-Cali-MR] ndcg@5:0.595649, ndcg@10:0.664967\n",
      "[MF-Cali-MR] recall@5:0.427175, recall@10:0.700108\n",
      "[MF-Cali-MR] precision@5:0.494483, precision@10:0.438276\n",
      "[MF-Cali-MR] f1@5:0.458371, f1@10:0.539081\n"
     ]
    }
   ],
   "source": [
    "set_seed(2024)\n",
    "all_data = pd.DataFrame(np.zeros((num_user, num_item))).stack().reset_index()\n",
    "all_data = all_data.values[:, :2]\n",
    "print(all_data.shape)\n",
    "print(all_data)\n",
    "unlabeled_x = np.array(list(set(map(tuple, all_data)) - set(map(tuple, x_train))), dtype=int)\n",
    "\n",
    "mf_cali_mr = MF_Cali_MR(num_user, num_item)\n",
    "mf_cali_mr.cuda()\n",
    "\n",
    "mf_cali_mr._compute_IPS(x_train, lr=0.05, lamb=5e-3, gamma=2, batch_size_prop =2048, tol=1e-5)\n",
    "\n",
    "mf_cali_mr.fit(x_train, y_train, unlabeled_x,\n",
    "    batch_size=128,\n",
    "    lr1=0.05,\n",
    "    lamb1=1e-4,\n",
    "    lr2=0.05,\n",
    "    lamb2 =5e-5,\n",
    "    lr3=0.05,\n",
    "    lamb3=5e-5,\n",
    "    gamma=8,\n",
    "    G = 3,\n",
    "    tol=1e-5,\n",
    "    verbose = False)\n",
    "\n",
    "test_pred = mf_cali_mr.predict(x_test)\n",
    "mse_mfcali_mr = mse_func(y_test, test_pred)\n",
    "auc_mfcali_mr = roc_auc_score(y_test, test_pred)\n",
    "ndcg_res = ndcg_func(mf_cali_mr, x_test, y_test)\n",
    "recall_res = recall_func(mf_cali_mr, x_test, y_test)\n",
    "precision_res = precision_func(mf_cali_mr, x_test, y_test)\n",
    "\n",
    "\n",
    "print(\"***\"*5 + \"[MF-Cali-MR]\" + \"***\"*5)\n",
    "print(\"[MF-Cali-MR] test mse:\", mse_mfcali_mr)\n",
    "print(\"[MF-Cali-MR] test auc:\", auc_mfcali_mr)\n",
    "print(\"[MF-Cali-MR] ndcg@5:{:.6f}, ndcg@10:{:.6f}\".format(\n",
    "        np.mean(ndcg_res[\"ndcg_5\"]), np.mean(ndcg_res[\"ndcg_10\"])))\n",
    "print(\"[MF-Cali-MR] recall@5:{:.6f}, recall@10:{:.6f}\".format(\n",
    "        np.mean(recall_res[\"recall_5\"]), np.mean(recall_res[\"recall_10\"])))\n",
    "print(\"[MF-Cali-MR] precision@5:{:.6f}, precision@10:{:.6f}\".format(\n",
    "        np.mean(precision_res[\"precision_5\"]), np.mean(precision_res[\"precision_10\"])))\n",
    "print(\"[MF-Cali-MR] f1@5:{:.6f}, f1@10:{:.6f}\".format(\n",
    "        2 * (np.mean(precision_res[\"precision_5\"]) * np.mean(recall_res[\"recall_5\"])) / (np.mean(precision_res[\"precision_5\"]) + np.mean(recall_res[\"recall_5\"])),\n",
    "        2 * (np.mean(precision_res[\"precision_10\"]) * np.mean(recall_res[\"recall_10\"])) / (np.mean(precision_res[\"precision_10\"]) + np.mean(recall_res[\"recall_10\"]))))"
   ]
  },
  {
   "cell_type": "code",
   "execution_count": 6,
   "id": "19fa0084",
   "metadata": {},
   "outputs": [
    {
     "name": "stdout",
     "output_type": "stream",
     "text": [
      "(87000, 2)\n",
      "[[  0.   0.]\n",
      " [  0.   1.]\n",
      " [  0.   2.]\n",
      " ...\n",
      " [289. 297.]\n",
      " [289. 298.]\n",
      " [289. 299.]]\n",
      "[PS] epoch:15, xent:86.39530432224274\n",
      "[MF-MR] epoch:28, xent:7.046097449958324\n",
      "***************[MF-Cali-MR]***************\n",
      "[MF-Cali-MR] test mse: 0.21531039026505272\n",
      "[MF-Cali-MR] test auc: 0.7383472372693536\n",
      "[MF-Cali-MR] ndcg@5:0.650074, ndcg@10:0.710519\n",
      "[MF-Cali-MR] recall@5:0.452770, recall@10:0.720345\n",
      "[MF-Cali-MR] precision@5:0.528276, precision@10:0.454138\n",
      "[MF-Cali-MR] f1@5:0.487618, f1@10:0.557072\n"
     ]
    }
   ],
   "source": [
    "set_seed(2024)\n",
    "all_data = pd.DataFrame(np.zeros((num_user, num_item))).stack().reset_index()\n",
    "all_data = all_data.values[:, :2]\n",
    "print(all_data.shape)\n",
    "print(all_data)\n",
    "unlabeled_x = np.array(list(set(map(tuple, all_data)) - set(map(tuple, x_train))), dtype=int)\n",
    "\n",
    "mf_cali_mr = MF_Cali_MR(num_user, num_item)\n",
    "mf_cali_mr.cuda()\n",
    "\n",
    "mf_cali_mr._compute_IPS(x_train, lr=0.05, lamb=5e-3, gamma=2, batch_size_prop =2048, tol=1e-5)\n",
    "\n",
    "mf_cali_mr.fit(x_train, y_train, unlabeled_x,\n",
    "    batch_size=128,\n",
    "    lr1=0.05,\n",
    "    lamb1=1e-4,\n",
    "    lr2=0.05,\n",
    "    lamb2 =5e-5,\n",
    "    lr3=0.05,\n",
    "    lamb3=5e-5,\n",
    "    gamma=8,\n",
    "    G = 3,\n",
    "    tol=1e-5,\n",
    "    verbose = False)\n",
    "\n",
    "test_pred = mf_cali_mr.predict(x_test)\n",
    "mse_mfcali_mr = mse_func(y_test, test_pred)\n",
    "auc_mfcali_mr = roc_auc_score(y_test, test_pred)\n",
    "ndcg_res = ndcg_func(mf_cali_mr, x_test, y_test)\n",
    "recall_res = recall_func(mf_cali_mr, x_test, y_test)\n",
    "precision_res = precision_func(mf_cali_mr, x_test, y_test)\n",
    "\n",
    "\n",
    "print(\"***\"*5 + \"[MF-Cali-MR]\" + \"***\"*5)\n",
    "print(\"[MF-Cali-MR] test mse:\", mse_mfcali_mr)\n",
    "print(\"[MF-Cali-MR] test auc:\", auc_mfcali_mr)\n",
    "print(\"[MF-Cali-MR] ndcg@5:{:.6f}, ndcg@10:{:.6f}\".format(\n",
    "        np.mean(ndcg_res[\"ndcg_5\"]), np.mean(ndcg_res[\"ndcg_10\"])))\n",
    "print(\"[MF-Cali-MR] recall@5:{:.6f}, recall@10:{:.6f}\".format(\n",
    "        np.mean(recall_res[\"recall_5\"]), np.mean(recall_res[\"recall_10\"])))\n",
    "print(\"[MF-Cali-MR] precision@5:{:.6f}, precision@10:{:.6f}\".format(\n",
    "        np.mean(precision_res[\"precision_5\"]), np.mean(precision_res[\"precision_10\"])))\n",
    "print(\"[MF-Cali-MR] f1@5:{:.6f}, f1@10:{:.6f}\".format(\n",
    "        2 * (np.mean(precision_res[\"precision_5\"]) * np.mean(recall_res[\"recall_5\"])) / (np.mean(precision_res[\"precision_5\"]) + np.mean(recall_res[\"recall_5\"])),\n",
    "        2 * (np.mean(precision_res[\"precision_10\"]) * np.mean(recall_res[\"recall_10\"])) / (np.mean(precision_res[\"precision_10\"]) + np.mean(recall_res[\"recall_10\"]))))"
   ]
  }
 ],
 "metadata": {
  "accelerator": "GPU",
  "colab": {
   "provenance": []
  },
  "gpuClass": "standard",
  "kernelspec": {
   "display_name": "pytorch",
   "language": "python",
   "name": "python3"
  },
  "language_info": {
   "codemirror_mode": {
    "name": "ipython",
    "version": 3
   },
   "file_extension": ".py",
   "mimetype": "text/x-python",
   "name": "python",
   "nbconvert_exporter": "python",
   "pygments_lexer": "ipython3",
   "version": "3.7.16"
  }
 },
 "nbformat": 4,
 "nbformat_minor": 5
}
