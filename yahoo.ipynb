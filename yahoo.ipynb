{
 "cells": [
  {
   "cell_type": "code",
   "execution_count": 2,
   "id": "a605d7ff",
   "metadata": {},
   "outputs": [
    {
     "name": "stderr",
     "output_type": "stream",
     "text": [
      "/home/xiaoyanghao/anaconda3/envs/pytorch38/lib/python3.8/site-packages/tqdm/auto.py:21: TqdmWarning: IProgress not found. Please update jupyter and ipywidgets. See https://ipywidgets.readthedocs.io/en/stable/user_install.html\n",
      "  from .autonotebook import tqdm as notebook_tqdm\n"
     ]
    }
   ],
   "source": [
    "# -*- coding: utf-8 -*-\n",
    "import numpy as np\n",
    "import torch\n",
    "from sklearn.metrics import roc_auc_score\n",
    "import random\n",
    "import pandas as pd\n",
    "from dataset import load_data\n",
    "from Cali_MR_Model import MF_Cali_MR\n",
    "\n",
    "from utils import ndcg_func, binarize, shuffle, recall_func, precision_func\n",
    "mse_func = lambda x,y: np.mean((x-y)**2)\n",
    "acc_func = lambda x,y: np.sum(x == y) / len(x)\n",
    "\n",
    "dataset_name = \"yahoo\""
   ]
  },
  {
   "cell_type": "code",
   "execution_count": 3,
   "id": "69db5ff7",
   "metadata": {},
   "outputs": [],
   "source": [
    "def set_seed(seed):\n",
    "    random.seed(seed)\n",
    "    np.random.seed(seed)\n",
    "    torch.manual_seed(seed)\n",
    "    torch.cuda.manual_seed(seed)\n",
    "    torch.cuda.manual_seed_all(seed)\n",
    "\n",
    "set_seed(2024)"
   ]
  },
  {
   "cell_type": "code",
   "execution_count": 4,
   "id": "902db9a6",
   "metadata": {
    "colab": {
     "base_uri": "https://localhost:8080/"
    },
    "executionInfo": {
     "elapsed": 1441,
     "status": "ok",
     "timestamp": 1681721635206,
     "user": {
      "displayName": "Jaqueline Noonan",
      "userId": "14082822236352942107"
     },
     "user_tz": -480
    },
    "id": "902db9a6",
    "outputId": "f5254160-9ad6-4c18-d5ac-92aa63d6700d",
    "tags": []
   },
   "outputs": [
    {
     "name": "stdout",
     "output_type": "stream",
     "text": [
      "===>Load from yahoo data set<===\n",
      "[train] num data: 311704\n",
      "[test]  num data: 54000\n",
      "# user: 15401, # item: 1001\n"
     ]
    }
   ],
   "source": [
    "x_train, y_train, x_test, y_test = load_data(\"yahoo\")\n",
    "x_train, y_train = shuffle(x_train, y_train)\n",
    "num_user = x_train[:,0].max() + 1\n",
    "num_item = x_train[:,1].max() + 1\n",
    "\n",
    "print(\"# user: {}, # item: {}\".format(num_user, num_item))\n",
    "# binarize\n",
    "y_train = binarize(y_train)\n",
    "y_test = binarize(y_test)"
   ]
  },
  {
   "cell_type": "code",
   "execution_count": null,
   "id": "2f9bbf11",
   "metadata": {},
   "outputs": [],
   "source": [
    "# 15400 个用户，所有1000个物品，评分个数311,704，训练集\n",
    "# 前5400个用户，随机10个物品, 评分个数为54000，测试集"
   ]
  },
  {
   "cell_type": "code",
   "execution_count": 7,
   "id": "0e8f9858",
   "metadata": {},
   "outputs": [
    {
     "name": "stdout",
     "output_type": "stream",
     "text": [
      "(15416401, 2)\n",
      "[[0.00e+00 0.00e+00]\n",
      " [0.00e+00 1.00e+00]\n",
      " [0.00e+00 2.00e+00]\n",
      " ...\n",
      " [1.54e+04 9.98e+02]\n",
      " [1.54e+04 9.99e+02]\n",
      " [1.54e+04 1.00e+03]]\n",
      "[PS] epoch:19, xent:729.8358807563782\n",
      "[MF-MR] epoch:60, xent:3.4754952415823936\n",
      "***************[MF-Cali-MR]***************\n",
      "[MF-Cali-MR] test mse: 0.2686779836715469\n",
      "[MF-Cali-MR] test auc: 0.7031546402545443\n",
      "[MF-Cali-MR] ndcg@5:0.675884, ndcg@10:0.785900\n",
      "[MF-Cali-MR] recall@5:0.446212, recall@10:0.726296\n",
      "[MF-Cali-MR] precision@5:0.271889, precision@10:0.231833\n",
      "[MF-Cali-MR] f1@5:0.337891, f1@10:0.351476\n"
     ]
    }
   ],
   "source": [
    "set_seed(2024)\n",
    "all_data = pd.DataFrame(np.zeros((num_user, num_item))).stack().reset_index()\n",
    "all_data = all_data.values[:, :2]\n",
    "print(all_data.shape)\n",
    "print(all_data)\n",
    "unlabeled_x = np.array(list(set(map(tuple, all_data)) - set(map(tuple, x_train))), dtype=int)\n",
    "\n",
    "mf_cali_mr = MF_Cali_MR(num_user, num_item)\n",
    "mf_cali_mr.cuda()\n",
    "\n",
    "mf_cali_mr._compute_IPS(x_train, lr=0.05, lamb=5e-3, gamma=1, batch_size_prop =1049088, tol=1e-5)\n",
    "\n",
    "mf_cali_mr.fit(x_train, y_train, unlabeled_x,\n",
    "    batch_size=8192,\n",
    "    lr1=0.05,\n",
    "    lamb1=1e-6,\n",
    "    lr2=0.05,\n",
    "    lamb2 =5e-6,\n",
    "    lr3=0.05,\n",
    "    lamb3=5e-6,\n",
    "    prop_clip=0.01,\n",
    "    gamma=5,\n",
    "    G = 3,\n",
    "    tol=1e-5,\n",
    "    verbose = False)\n",
    "\n",
    "test_pred = mf_cali_mr.predict(x_test)\n",
    "mse_mfcali_mr = mse_func(y_test, test_pred)\n",
    "auc_mfcali_mr = roc_auc_score(y_test, test_pred)\n",
    "ndcg_res = ndcg_func(mf_cali_mr, x_test, y_test)\n",
    "recall_res = recall_func(mf_cali_mr, x_test, y_test)\n",
    "precision_res = precision_func(mf_cali_mr, x_test, y_test)\n",
    "\n",
    "\n",
    "print(\"***\"*5 + \"[MF-Cali-MR]\" + \"***\"*5)\n",
    "print(\"[MF-Cali-MR] test mse:\", mse_mfcali_mr)\n",
    "print(\"[MF-Cali-MR] test auc:\", auc_mfcali_mr)\n",
    "print(\"[MF-Cali-MR] ndcg@5:{:.6f}, ndcg@10:{:.6f}\".format(\n",
    "        np.mean(ndcg_res[\"ndcg_5\"]), np.mean(ndcg_res[\"ndcg_10\"])))\n",
    "print(\"[MF-Cali-MR] recall@5:{:.6f}, recall@10:{:.6f}\".format(\n",
    "        np.mean(recall_res[\"recall_5\"]), np.mean(recall_res[\"recall_10\"])))\n",
    "print(\"[MF-Cali-MR] precision@5:{:.6f}, precision@10:{:.6f}\".format(\n",
    "        np.mean(precision_res[\"precision_5\"]), np.mean(precision_res[\"precision_10\"])))\n",
    "print(\"[MF-Cali-MR] f1@5:{:.6f}, f1@10:{:.6f}\".format(\n",
    "        2 * (np.mean(precision_res[\"precision_5\"]) * np.mean(recall_res[\"recall_5\"])) / (np.mean(precision_res[\"precision_5\"]) + np.mean(recall_res[\"recall_5\"])),\n",
    "        2 * (np.mean(precision_res[\"precision_10\"]) * np.mean(recall_res[\"recall_10\"])) / (np.mean(precision_res[\"precision_10\"]) + np.mean(recall_res[\"recall_10\"]))))"
   ]
  }
 ],
 "metadata": {
  "accelerator": "GPU",
  "colab": {
   "provenance": []
  },
  "gpuClass": "standard",
  "kernelspec": {
   "display_name": "pytorch38",
   "language": "python",
   "name": "python3"
  },
  "language_info": {
   "codemirror_mode": {
    "name": "ipython",
    "version": 3
   },
   "file_extension": ".py",
   "mimetype": "text/x-python",
   "name": "python",
   "nbconvert_exporter": "python",
   "pygments_lexer": "ipython3",
   "version": "3.8.18"
  }
 },
 "nbformat": 4,
 "nbformat_minor": 5
}
